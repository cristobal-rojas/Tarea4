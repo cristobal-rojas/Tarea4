{
 "cells": [
  {
   "cell_type": "code",
   "execution_count": 84,
   "metadata": {},
   "outputs": [
    {
     "name": "stdout",
     "output_type": "stream",
     "text": [
      "Nombre : Cristobal\n",
      "Cursos: Programacion y Fisica\n",
      "Notas : 5.6 y 6\n"
     ]
    }
   ],
   "source": [
    "#Diccionario, Tuplas y Listas\n",
    "##Estudiante1\n",
    "x = 'Nombre : Cristobal'\n",
    "y = 'Cursos: Programacion y Fisica'\n",
    "z = 'Notas : 5.6 y 6'\n",
    "t = (x, y, z)\n",
    "type(t)\n",
    "print(t[0])\n",
    "print(t[1])\n",
    "print(t[2])"
   ]
  },
  {
   "cell_type": "code",
   "execution_count": 87,
   "metadata": {},
   "outputs": [
    {
     "name": "stdout",
     "output_type": "stream",
     "text": [
      "Cristobal\n",
      "Programacion y Fisica\n",
      "5.6 y 6\n"
     ]
    }
   ],
   "source": [
    "##Estudiante1 2.0\n",
    "x = 'Cristobal'\n",
    "y = 'Programacion y Fisica'\n",
    "z = '5.6 y 6'\n",
    "t = (x, y, z)\n",
    "type(t)\n",
    "print(t[0])\n",
    "print(t[1])\n",
    "print(t[2])\n"
   ]
  },
  {
   "cell_type": "code",
   "execution_count": 54,
   "metadata": {},
   "outputs": [
    {
     "name": "stdout",
     "output_type": "stream",
     "text": [
      "Nombre : Juan\n",
      "Cursos : Programacion y Fisica\n",
      "Notas : 4.8 y 3.6\n"
     ]
    }
   ],
   "source": [
    "##Estudiante2\n",
    "a = 'Nombre : Juan'\n",
    "b = 'Cursos : Programacion y Fisica'\n",
    "c = 'Notas : 4.8 y 3.6'\n",
    "d = (a, b, c)\n",
    "type(d)\n",
    "print(d[0])\n",
    "print(d[1])\n",
    "print(d[2])"
   ]
  },
  {
   "cell_type": "code",
   "execution_count": 57,
   "metadata": {},
   "outputs": [
    {
     "name": "stdout",
     "output_type": "stream",
     "text": [
      "Nombre : Catalina\n",
      "Cursos : Programacion y Fisica\n",
      "Notas : 7 y 6.3\n"
     ]
    }
   ],
   "source": [
    "##Estudiante3\n",
    "q = 'Nombre : Catalina'\n",
    "w = 'Cursos : Programacion y Fisica'\n",
    "e = 'Notas : 7 y 6.3'\n",
    "r = (q, w, e)\n",
    "type(r)\n",
    "print(r[0])\n",
    "print(r[1])\n",
    "print(r[2])"
   ]
  },
  {
   "cell_type": "code",
   "execution_count": 78,
   "metadata": {},
   "outputs": [
    {
     "name": "stdout",
     "output_type": "stream",
     "text": [
      "Nombre : Francisca\n",
      "Cursos : Programacion y Fisica\n",
      "Notas : 3.9 y 6.7\n"
     ]
    }
   ],
   "source": [
    "##Estudiante4\n",
    "p = 'Nombre : Francisca'\n",
    "o = 'Cursos : Programacion y Fisica'\n",
    "i = 'Notas : 3.9 y 6.7'\n",
    "u = (p, o, i)\n",
    "type(u)\n",
    "print(u[0])\n",
    "print(u[1])\n",
    "print(u[2])"
   ]
  },
  {
   "cell_type": "code",
   "execution_count": 1,
   "metadata": {},
   "outputs": [
    {
     "name": "stdout",
     "output_type": "stream",
     "text": [
      "Cristobal\n",
      "Programacion y Fisica\n",
      "5.6 y 6\n"
     ]
    }
   ],
   "source": [
    "#Diccionario de un estudiante\n",
    "diccionario = {'Nombre': 'Cristobal', 'Cursos': 'Programacion y Fisica','Notas': '5.6 y 6'}\n",
    "print(diccionario['Nombre'])\n",
    "print(diccionario['Cursos'])\n",
    "print(diccionario['Notas'])"
   ]
  }
 ],
 "metadata": {
  "kernelspec": {
   "display_name": "Python 3",
   "language": "python",
   "name": "python3"
  },
  "language_info": {
   "codemirror_mode": {
    "name": "ipython",
    "version": 3
   },
   "file_extension": ".py",
   "mimetype": "text/x-python",
   "name": "python",
   "nbconvert_exporter": "python",
   "pygments_lexer": "ipython3",
   "version": "3.8.3"
  }
 },
 "nbformat": 4,
 "nbformat_minor": 4
}
